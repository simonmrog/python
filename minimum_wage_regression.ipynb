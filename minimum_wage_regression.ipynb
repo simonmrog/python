{
 "cells": [
  {
   "cell_type": "code",
   "execution_count": 1,
   "metadata": {},
   "outputs": [],
   "source": [
    "import numpy as np\n",
    "import matplotlib.pyplot as plt"
   ]
  },
  {
   "cell_type": "code",
   "execution_count": 38,
   "metadata": {},
   "outputs": [],
   "source": [
    "def coef_calculation (X, Y):\n",
    "    \n",
    "    n = np.size(X)\n",
    "    # taking the mean values of each array\n",
    "    x_bar = np.mean(X)\n",
    "    y_bar = np.mean(Y)\n",
    "    \n",
    "    #calculating regression coefficients\n",
    "    b_1 = (np.sum(X*Y) - n * x_bar * y_bar) / (np.sum(X*X) - n * x_bar * x_bar)\n",
    "    b_0 = y_bar - b_1 * x_bar\n",
    "    \n",
    "    E_i = Y - (b_0 + b_1 * X)\n",
    "    SSE = (1 / 2 * n) * np.sum(E_i * E_i)\n",
    "    print (\"SSE = \" + str(SSE))\n",
    "    \n",
    "    return (b_0, b_1)"
   ]
  },
  {
   "cell_type": "code",
   "execution_count": 39,
   "metadata": {},
   "outputs": [],
   "source": [
    "def adjust(Y_nominal):\n",
    "    \n",
    "    #CPI per year (january value)\n",
    "    CPI = np.array([57.73729, 62.64044, 67.26002, 72.23341, 76.70288, 80.86822,\n",
    "                    84.55834, 88.54252, 93.85245, 100.58933, 102.70133, 106.19253,\n",
    "                   109.95503, 112.14896, 114.53678, 118.91290, 127.77754, 134.76594,\n",
    "                   139.72469])\n",
    "    \n",
    "    Y_real = []\n",
    "    #adjusting values to inflation\n",
    "    for k in range(0, len(Y_nominal)):\n",
    "        Y_real.append((93.85245 / CPI[k]) * Y_nominal[k])\n",
    "\n",
    "    return (Y_real)"
   ]
  },
  {
   "cell_type": "code",
   "execution_count": 40,
   "metadata": {},
   "outputs": [],
   "source": [
    "def plot_regression_line(X, Y, B):\n",
    "    \n",
    "    plt.scatter(X,Y, color = \"G\")\n",
    "    \n",
    "    Y_real = adjust(Y)\n",
    "    plt.scatter(X,Y_real, color = 'R')\n",
    "    \n",
    "    #function obtained by regression\n",
    "    H = B[0] + B[1] * X\n",
    "    \n",
    "    plt.plot(X,H)\n",
    "    \n",
    "    #plot parameters \n",
    "    plt.text(2012, 410000, \"adjusted wage\", fontsize=12)\n",
    "    plt.text(2008, 700000, \"un-adjusted wage\", fontsize=12)\n",
    "    plt.title(\"Minimum wage in Colombia 2000-2018\")\n",
    "    plt.xlabel(\"year\")\n",
    "    plt.xticks([2000, 2002, 2004, 2006, 2008, 2010, 2012, 2014, 2016, 2018])\n",
    "    plt.ylabel(\"minimum wage (COP)\")\n",
    "    plt.show()"
   ]
  },
  {
   "cell_type": "code",
   "execution_count": 41,
   "metadata": {},
   "outputs": [
    {
     "name": "stdout",
     "output_type": "stream",
     "text": [
      "SSE = 34305233832.985077\n"
     ]
    },
    {
     "data": {
      "image/png": "[encoded data removed]",
      "text/plain": [
       "<Figure size 432x288 with 1 Axes>"
      ]
     },
     "metadata": {
      "needs_background": "light"
     },
     "output_type": "display_data"
    }
   ],
   "source": [
    "def main():\n",
    "    \n",
    "    #dataset: Colombia's minimum wage (in COP) from 2000 to 2018 \n",
    "    X = np.array([2000, 2001, 2002, 2003, 2004, 2005, 2006, 2007, 2008, 2009,\n",
    "         2010, 2011, 2012, 2013, 2014, 2015, 2016, 2017, 2018])\n",
    "    Y = np.array([260100, 286000, 309000, 332000, 358000, 381500, 408000, 433700,\n",
    "        461500, 496900, 515000, 535600, 566700, 589000, 616000, 644350, 689455,\n",
    "        737717, 781242])\n",
    "    \n",
    "    B = coef_calculation(X, Y)\n",
    "    plot_regression_line(X, Y, B)\n",
    "    \n",
    "#to call the main function first\n",
    "if __name__ == \"__main__\":\n",
    "    main()"
   ]
  },
  {
   "cell_type": "code",
   "execution_count": null,
   "metadata": {},
   "outputs": [],
   "source": []
  }
 ],
 "metadata": {
  "kernelspec": {
   "display_name": "Python 3",
   "language": "python",
   "name": "python3"
  },
  "language_info": {
   "codemirror_mode": {
    "name": "ipython",
    "version": 3
   },
   "file_extension": ".py",
   "mimetype": "text/x-python",
   "name": "python",
   "nbconvert_exporter": "python",
   "pygments_lexer": "ipython3",
   "version": "3.5.2"
  }
 },
 "nbformat": 4,
 "nbformat_minor": 2
}
